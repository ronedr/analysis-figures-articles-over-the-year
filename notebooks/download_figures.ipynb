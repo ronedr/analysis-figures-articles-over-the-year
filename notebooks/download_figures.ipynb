{
 "cells": [
  {
   "cell_type": "markdown",
   "id": "545aa0fd",
   "metadata": {},
   "source": [
    "# Download Figures to Local Folder "
   ]
  },
  {
   "cell_type": "code",
   "execution_count": 1,
   "id": "793b2b2c",
   "metadata": {},
   "outputs": [],
   "source": [
    "folder_path = \"C:\\\\Users\\\\USER\\\\Documents\\\\figures\""
   ]
  },
  {
   "cell_type": "code",
   "execution_count": 2,
   "id": "37ccd759",
   "metadata": {},
   "outputs": [],
   "source": [
    "import requests\n",
    "import os\n",
    "import pandas as pd"
   ]
  },
  {
   "cell_type": "code",
   "execution_count": 3,
   "id": "f4a2515f",
   "metadata": {},
   "outputs": [],
   "source": [
    "def download_image(url, folder_path, filename=None):\n",
    "    \"\"\"\n",
    "    Download an image from a URL and save it to a specified folder.\n",
    "    \n",
    "    Parameters:\n",
    "    - url (str): The URL of the image.\n",
    "    - folder_path (str): The folder where the image should be saved.\n",
    "    - filename (str, optional): The name of the saved image file. If not provided, the original filename from the URL will be used.\n",
    "    \"\"\"\n",
    "    \n",
    "    if not filename:\n",
    "        # Extract the filename from the URL if not provided\n",
    "        filename = os.path.basename(url)\n",
    "    \n",
    "    # Ensure the folder exists\n",
    "    if not os.path.exists(folder_path):\n",
    "        os.makedirs(folder_path)\n",
    "    \n",
    "    \n",
    "    image_path = os.path.join(folder_path, filename)\n",
    "    if os.path.isfile(image_path):\n",
    "        print(f\"Image exists: {image_path}\")\n",
    "        return image_path\n",
    "    \n",
    "    # Get the image content\n",
    "    headers = {\n",
    "        \"User-Agent\": \"Mozilla/5.0 (Windows NT 10.0; Win64; x64) AppleWebKit/537.36 (KHTML, like Gecko) Chrome/91.0.4472.124 Safari/537.36\"\n",
    "    }\n",
    "\n",
    "    response = requests.get(url, headers=headers)\n",
    "    response.raise_for_status()  # Raise an error for bad responses\n",
    "\n",
    "    # Save the image to the specified folder\n",
    "    image_path = os.path.join(folder_path, filename)\n",
    "    with open(image_path, 'wb') as img_file:\n",
    "        img_file.write(response.content)\n",
    "    print(f\"Image saved to {image_path}\")\n",
    "    \n",
    "    return image_path"
   ]
  },
  {
   "cell_type": "code",
   "execution_count": null,
   "id": "40b4f176",
   "metadata": {},
   "outputs": [],
   "source": [
    "figures_df = pd.read_csv(\"./figures_articles.csv\")"
   ]
  },
  {
   "cell_type": "code",
   "execution_count": null,
   "id": "8142bd6c",
   "metadata": {},
   "outputs": [],
   "source": [
    "%%time\n",
    "figures_df[\"figure_path\"] = figures_df[\"figure_img\"].apply(lambda img_url: download_image(img_url, folder_path))"
   ]
  },
  {
   "cell_type": "code",
   "execution_count": null,
   "id": "67e9b338",
   "metadata": {},
   "outputs": [],
   "source": [
    "figures_df.to_csv(\"./figures_articles_with_path.csv\", index=False)"
   ]
  }
 ],
 "metadata": {
  "kernelspec": {
   "display_name": "Python 3 (ipykernel)",
   "language": "python",
   "name": "python3"
  },
  "language_info": {
   "codemirror_mode": {
    "name": "ipython",
    "version": 3
   },
   "file_extension": ".py",
   "mimetype": "text/x-python",
   "name": "python",
   "nbconvert_exporter": "python",
   "pygments_lexer": "ipython3",
   "version": "3.10.9"
  }
 },
 "nbformat": 4,
 "nbformat_minor": 5
}
