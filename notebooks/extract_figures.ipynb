{
 "cells": [
  {
   "cell_type": "markdown",
   "id": "1d0a9d80",
   "metadata": {},
   "source": [
    "# Etract Figures from IEEE site -\n"
   ]
  },
  {
   "cell_type": "code",
   "execution_count": null,
   "id": "893067e9",
   "metadata": {},
   "outputs": [],
   "source": [
    "!pip install selenium\n",
    "!pip install webdriver_manager"
   ]
  },
  {
   "cell_type": "code",
   "execution_count": null,
   "id": "49020ab3",
   "metadata": {},
   "outputs": [],
   "source": [
    "from selenium import webdriver\n",
    "from selenium.webdriver.common.by import By\n",
    "from selenium.webdriver.common.keys import Keys\n",
    "from webdriver_manager.chrome import ChromeDriverManager\n",
    "from selenium.webdriver.support.ui import WebDriverWait\n",
    "import urllib.request\n",
    "from time import sleep\n",
    "from selenium import webdriver\n",
    "import pandas as pd"
   ]
  },
  {
   "cell_type": "code",
   "execution_count": null,
   "id": "cd06b6dc",
   "metadata": {},
   "outputs": [],
   "source": [
    "driver = webdriver.Chrome()"
   ]
  },
  {
   "cell_type": "code",
   "execution_count": null,
   "id": "d3a171db",
   "metadata": {},
   "outputs": [],
   "source": [
    "df_tuples = []\n",
    "article_num = 0\n",
    "figure_num = 0\n",
    "for year in list(range(2010, 2024)):\n",
    "    driver.get(f\"https://ieeexplore.ieee.org/search/searchresult.jsp?queryText=machine%20learning&highlight=true&returnType=SEARCH&matchPubs=true&rowsPerPage=100&pageNumber=1&refinements=ContentType:Journals&ranges={year}_{year}_Year&returnFacets=ALL\")\n",
    "    sleep(10)\n",
    "    articles_elements = driver.find_elements(By.CLASS_NAME, \"List-results-items\")\n",
    "    articles_ids = [article.get_attribute(\"id\") for article in articles_elements]\n",
    "    for article_id in articles_ids:\n",
    "        driver.get(f\"https://ieeexplore.ieee.org/document/{article_id}/figures#figures\")\n",
    "        sleep(10)\n",
    "        try:\n",
    "            article_num += 1\n",
    "            figures_element = driver.find_element(By.CLASS_NAME, \"accordion-item.container-active\")\n",
    "            figures_elements = figures_element.find_elements(By.CLASS_NAME, \"figure.figure-full\")\n",
    "            for figure_element in figures_elements:\n",
    "                figure_num += 1\n",
    "                figure_name = figure_element.find_element(By.CLASS_NAME, \"figure-name\").text\n",
    "                figure_caption = figure_element.find_element(By.CLASS_NAME, \"figure-caption\").text\n",
    "                figure_img = figure_element.find_element(By.CLASS_NAME, \"figure-full\").get_attribute('src')\n",
    "                print(year, article_id, article_num, figure_num, figure_img)\n",
    "                df_tuples += [(year, article_id, figure_name, figure_caption, figure_img)]\n",
    "        except:\n",
    "            print(\"NO\")"
   ]
  },
  {
   "cell_type": "markdown",
   "id": "0e28f56a",
   "metadata": {},
   "source": [
    "### Save figures to dataframe:"
   ]
  },
  {
   "cell_type": "code",
   "execution_count": null,
   "id": "e42bdf25",
   "metadata": {},
   "outputs": [],
   "source": [
    "figures_df = pd.DataFrame(df_tuples, columns=[\"year\", \"article_id\", \"article_num\", \"figure_num\", \"figure_img\"])\n",
    "figures_df.to_csv(\"./figures_articles.csv\", index=False)"
   ]
  }
 ],
 "metadata": {
  "kernelspec": {
   "display_name": "Python 3 (ipykernel)",
   "language": "python",
   "name": "python3"
  },
  "language_info": {
   "codemirror_mode": {
    "name": "ipython",
    "version": 3
   },
   "file_extension": ".py",
   "mimetype": "text/x-python",
   "name": "python",
   "nbconvert_exporter": "python",
   "pygments_lexer": "ipython3",
   "version": "3.10.9"
  }
 },
 "nbformat": 4,
 "nbformat_minor": 5
}
